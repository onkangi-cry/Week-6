{
  "nbformat": 4,
  "nbformat_minor": 0,
  "metadata": {
    "colab": {
      "provenance": [],
      "authorship_tag": "ABX9TyNSVeDj5sB8qRm9W3cXRU5n",
      "include_colab_link": true
    },
    "kernelspec": {
      "name": "python3",
      "display_name": "Python 3"
    },
    "language_info": {
      "name": "python"
    }
  },
  "cells": [
    {
      "cell_type": "markdown",
      "metadata": {
        "id": "view-in-github",
        "colab_type": "text"
      },
      "source": [
        "<a href=\"https://colab.research.google.com/github/onkangi-cry/Week-6/blob/main/Week_6.ipynb\" target=\"_parent\"><img src=\"https://colab.research.google.com/assets/colab-badge.svg\" alt=\"Open In Colab\"/></a>"
      ]
    },
    {
      "cell_type": "code",
      "execution_count": null,
      "metadata": {
        "id": "f_CQfGEWnRPn",
        "colab": {
          "base_uri": "https://localhost:8080/"
        },
        "outputId": "ba5b58fc-7ec9-4ff9-f10d-df744ae3671d"
      },
      "outputs": [
        {
          "output_type": "stream",
          "name": "stdout",
          "text": [
            "Epoch 1/5\n",
            "\u001b[1m4/4\u001b[0m \u001b[32m━━━━━━━━━━━━━━━━━━━━\u001b[0m\u001b[37m\u001b[0m \u001b[1m4s\u001b[0m 440ms/step - accuracy: 0.3667 - loss: 1.3434 - val_accuracy: 0.4375 - val_loss: 1.3785\n",
            "Epoch 2/5\n",
            "\u001b[1m4/4\u001b[0m \u001b[32m━━━━━━━━━━━━━━━━━━━━\u001b[0m\u001b[37m\u001b[0m \u001b[1m2s\u001b[0m 115ms/step - accuracy: 0.3583 - loss: 1.2608 - val_accuracy: 0.4375 - val_loss: 1.1763\n",
            "Epoch 3/5\n",
            "\u001b[1m4/4\u001b[0m \u001b[32m━━━━━━━━━━━━━━━━━━━━\u001b[0m\u001b[37m\u001b[0m \u001b[1m0s\u001b[0m 111ms/step - accuracy: 0.4542 - loss: 1.1103 - val_accuracy: 0.1250 - val_loss: 1.1352\n",
            "Epoch 4/5\n",
            "\u001b[1m4/4\u001b[0m \u001b[32m━━━━━━━━━━━━━━━━━━━━\u001b[0m\u001b[37m\u001b[0m \u001b[1m1s\u001b[0m 183ms/step - accuracy: 0.3854 - loss: 1.0710 - val_accuracy: 0.4375 - val_loss: 1.0839\n",
            "Epoch 5/5\n",
            "\u001b[1m4/4\u001b[0m \u001b[32m━━━━━━━━━━━━━━━━━━━━\u001b[0m\u001b[37m\u001b[0m \u001b[1m1s\u001b[0m 154ms/step - accuracy: 0.5667 - loss: 1.0162 - val_accuracy: 0.3750 - val_loss: 1.0957\n",
            "\u001b[1m1/1\u001b[0m \u001b[32m━━━━━━━━━━━━━━━━━━━━\u001b[0m\u001b[37m\u001b[0m \u001b[1m0s\u001b[0m 315ms/step - accuracy: 0.1500 - loss: 1.1151\n",
            "Test accuracy: 0.15\n",
            "Saved artifact at '/tmp/tmp_qrb46jn'. The following endpoints are available:\n",
            "\n",
            "* Endpoint 'serve'\n",
            "  args_0 (POSITIONAL_ONLY): TensorSpec(shape=(None, 64, 64, 3), dtype=tf.float32, name='keras_tensor')\n",
            "Output Type:\n",
            "  TensorSpec(shape=(None, 3), dtype=tf.float32, name=None)\n",
            "Captures:\n",
            "  134918778948496: TensorSpec(shape=(), dtype=tf.resource, name=None)\n",
            "  134918778949648: TensorSpec(shape=(), dtype=tf.resource, name=None)\n",
            "  134918778950032: TensorSpec(shape=(), dtype=tf.resource, name=None)\n",
            "  134918778949072: TensorSpec(shape=(), dtype=tf.resource, name=None)\n",
            "  134918778948688: TensorSpec(shape=(), dtype=tf.resource, name=None)\n",
            "  134918778950224: TensorSpec(shape=(), dtype=tf.resource, name=None)\n",
            "  134918778946384: TensorSpec(shape=(), dtype=tf.resource, name=None)\n",
            "  134918778948880: TensorSpec(shape=(), dtype=tf.resource, name=None)\n",
            "Predicted class: 2\n"
          ]
        }
      ],
      "source": [
        "# 1. Import libraries\n",
        "import tensorflow as tf                  # Load TensorFlow for model creation & TFLite conversion\n",
        "from tensorflow.keras import layers      # Access high‑level Keras layer classes\n",
        "import numpy as np                       # Handle numerical arrays and data operations\n",
        "\n",
        "# 2. Prepare a simple synthetic dataset\n",
        "num_samples = 100                        # Total “images” to simulate\n",
        "img_height, img_width = 64, 64           # Each image is 64×64 pixels\n",
        "num_classes = 3                          # Three recyclable categories (e.g., plastic, glass, metal)\n",
        "\n",
        "# 3. Create dummy data arrays\n",
        "x_data = np.random.rand(num_samples, img_height, img_width, 3)\n",
        "# ‑ Random floats [0,1) shaped (100,64,64,3) mimic RGB images\n",
        "\n",
        "y_data = np.random.randint(0, num_classes, size=(num_samples,))\n",
        "# ‑ Random integer label (0,1,2) per sample\n",
        "\n",
        "# 4. Split dataset into training/testing\n",
        "split = int(0.8 * num_samples)           # 80% train, 20% test\n",
        "x_train, x_test = x_data[:split], x_data[split:]\n",
        "y_train, y_test = y_data[:split], y_data[split:]\n",
        "\n",
        "# 5. Build a lightweight CNN\n",
        "model = tf.keras.Sequential([            # Sequentially stack layers\n",
        "    layers.Input(shape=(img_height, img_width, 3)),  # Input layer matching image shape\n",
        "    layers.Conv2D(16, 3, activation='relu'),         # 16 filters, 3×3 kernel, ReLU activation\n",
        "    layers.MaxPooling2D(),                           # Downsample by 2×2\n",
        "    layers.Conv2D(32, 3, activation='relu'),         # 32 filters, deeper extraction\n",
        "    layers.MaxPooling2D(),                           # Further downsample\n",
        "    layers.Flatten(),                                # Flatten to 1D vector\n",
        "    layers.Dense(64, activation='relu'),             # Fully connected layer (64 units)\n",
        "    layers.Dense(num_classes, activation='softmax')  # Output probabilities for each class\n",
        "])\n",
        "\n",
        "# 6. Compile model for training\n",
        "model.compile(\n",
        "    optimizer='adam',                               # Adam optimizer adjusts learning rates\n",
        "    loss='sparse_categorical_crossentropy',         # Loss for integer labels\n",
        "    metrics=['accuracy']                            # Track accuracy\n",
        ")\n",
        "\n",
        "# 7. Train the model\n",
        "model.fit(\n",
        "    x_train, y_train,                               # Training data & labels\n",
        "    epochs=5,                                       # Five passes over the dataset\n",
        "    batch_size=16,                                  # Update gradients every 16 samples\n",
        "    validation_split=0.2                            # Hold out 20% of train for validation\n",
        ")\n",
        "\n",
        "# 8. Evaluate on test set\n",
        "loss, accuracy = model.evaluate(x_test, y_test)    # Compute test loss & accuracy\n",
        "print(f\"Test accuracy: {accuracy:.2f}\")            # Print accuracy with two decimals\n",
        "\n",
        "# 9. Convert to TensorFlow Lite format\n",
        "converter = tf.lite.TFLiteConverter.from_keras_model(model)\n",
        "# ‑ Create TFLite converter object from trained Keras model\n",
        "tflite_model = converter.convert()                 # Convert model to TFLite flatbuffer\n",
        "open('model.tflite', 'wb').write(tflite_model)\n",
        "# ‑ Save converted model as 'model.tflite'\n",
        "\n",
        "# 10. (Optional) Run inference on TFLite model\n",
        "interpreter = tf.lite.Interpreter(model_path='model.tflite')\n",
        "# ‑ Load TFLite model into interpreter\n",
        "interpreter.allocate_tensors()                     # Allocate tensors for input/output\n",
        "input_details = interpreter.get_input_details()    # Get info about input tensor\n",
        "output_details = interpreter.get_output_details()  # Get info about output tensor\n",
        "\n",
        "sample = x_test[0:1].astype(np.float32)            # Take one test image, cast to float32\n",
        "interpreter.set_tensor(input_details[0]['index'], sample)\n",
        "# ‑ Feed sample into model\n",
        "interpreter.invoke()                               # Run inference\n",
        "pred = interpreter.get_tensor(output_details[0]['index'])\n",
        "# ‑ Retrieve output probabilities\n",
        "print(\"Predicted class:\", np.argmax(pred))         # Print index of highest probability\n"
      ]
    },
    {
      "cell_type": "code",
      "source": [
        "!pip install qiskit\n"
      ],
      "metadata": {
        "colab": {
          "base_uri": "https://localhost:8080/"
        },
        "id": "j5z9sc4-ErZB",
        "outputId": "57c2fd1c-0070-4bb5-a0ce-353cb820d2fe"
      },
      "execution_count": 3,
      "outputs": [
        {
          "output_type": "stream",
          "name": "stdout",
          "text": [
            "Collecting qiskit\n",
            "  Downloading qiskit-2.1.1-cp39-abi3-manylinux_2_17_x86_64.manylinux2014_x86_64.whl.metadata (12 kB)\n",
            "Collecting rustworkx>=0.15.0 (from qiskit)\n",
            "  Downloading rustworkx-0.16.0-cp39-abi3-manylinux_2_17_x86_64.manylinux2014_x86_64.whl.metadata (10 kB)\n",
            "Requirement already satisfied: numpy<3,>=1.17 in /usr/local/lib/python3.11/dist-packages (from qiskit) (2.0.2)\n",
            "Requirement already satisfied: scipy>=1.5 in /usr/local/lib/python3.11/dist-packages (from qiskit) (1.16.0)\n",
            "Requirement already satisfied: dill>=0.3 in /usr/local/lib/python3.11/dist-packages (from qiskit) (0.3.8)\n",
            "Collecting stevedore>=3.0.0 (from qiskit)\n",
            "  Downloading stevedore-5.4.1-py3-none-any.whl.metadata (2.3 kB)\n",
            "Requirement already satisfied: typing-extensions in /usr/local/lib/python3.11/dist-packages (from qiskit) (4.14.1)\n",
            "Collecting pbr>=2.0.0 (from stevedore>=3.0.0->qiskit)\n",
            "  Downloading pbr-6.1.1-py2.py3-none-any.whl.metadata (3.4 kB)\n",
            "Requirement already satisfied: setuptools in /usr/local/lib/python3.11/dist-packages (from pbr>=2.0.0->stevedore>=3.0.0->qiskit) (75.2.0)\n",
            "Downloading qiskit-2.1.1-cp39-abi3-manylinux_2_17_x86_64.manylinux2014_x86_64.whl (7.5 MB)\n",
            "\u001b[2K   \u001b[90m━━━━━━━━━━━━━━━━━━━━━━━━━━━━━━━━━━━━━━━━\u001b[0m \u001b[32m7.5/7.5 MB\u001b[0m \u001b[31m57.1 MB/s\u001b[0m eta \u001b[36m0:00:00\u001b[0m\n",
            "\u001b[?25hDownloading rustworkx-0.16.0-cp39-abi3-manylinux_2_17_x86_64.manylinux2014_x86_64.whl (2.1 MB)\n",
            "\u001b[2K   \u001b[90m━━━━━━━━━━━━━━━━━━━━━━━━━━━━━━━━━━━━━━━━\u001b[0m \u001b[32m2.1/2.1 MB\u001b[0m \u001b[31m76.2 MB/s\u001b[0m eta \u001b[36m0:00:00\u001b[0m\n",
            "\u001b[?25hDownloading stevedore-5.4.1-py3-none-any.whl (49 kB)\n",
            "\u001b[2K   \u001b[90m━━━━━━━━━━━━━━━━━━━━━━━━━━━━━━━━━━━━━━━━\u001b[0m \u001b[32m49.5/49.5 kB\u001b[0m \u001b[31m3.9 MB/s\u001b[0m eta \u001b[36m0:00:00\u001b[0m\n",
            "\u001b[?25hDownloading pbr-6.1.1-py2.py3-none-any.whl (108 kB)\n",
            "\u001b[2K   \u001b[90m━━━━━━━━━━━━━━━━━━━━━━━━━━━━━━━━━━━━━━━━\u001b[0m \u001b[32m109.0/109.0 kB\u001b[0m \u001b[31m8.6 MB/s\u001b[0m eta \u001b[36m0:00:00\u001b[0m\n",
            "\u001b[?25hInstalling collected packages: rustworkx, pbr, stevedore, qiskit\n",
            "Successfully installed pbr-6.1.1 qiskit-2.1.1 rustworkx-0.16.0 stevedore-5.4.1\n"
          ]
        }
      ]
    },
    {
      "cell_type": "code",
      "source": [
        "!pip install qiskit\n",
        "!pip install qiskit-aer\n"
      ],
      "metadata": {
        "colab": {
          "base_uri": "https://localhost:8080/"
        },
        "id": "kB60pGFAG-Fq",
        "outputId": "d055495a-cefb-4eb9-9c54-8a2bc0744550"
      },
      "execution_count": 7,
      "outputs": [
        {
          "output_type": "stream",
          "name": "stdout",
          "text": [
            "Requirement already satisfied: qiskit in /usr/local/lib/python3.11/dist-packages (2.1.1)\n",
            "Requirement already satisfied: rustworkx>=0.15.0 in /usr/local/lib/python3.11/dist-packages (from qiskit) (0.16.0)\n",
            "Requirement already satisfied: numpy<3,>=1.17 in /usr/local/lib/python3.11/dist-packages (from qiskit) (2.0.2)\n",
            "Requirement already satisfied: scipy>=1.5 in /usr/local/lib/python3.11/dist-packages (from qiskit) (1.16.0)\n",
            "Requirement already satisfied: dill>=0.3 in /usr/local/lib/python3.11/dist-packages (from qiskit) (0.3.8)\n",
            "Requirement already satisfied: stevedore>=3.0.0 in /usr/local/lib/python3.11/dist-packages (from qiskit) (5.4.1)\n",
            "Requirement already satisfied: typing-extensions in /usr/local/lib/python3.11/dist-packages (from qiskit) (4.14.1)\n",
            "Requirement already satisfied: pbr>=2.0.0 in /usr/local/lib/python3.11/dist-packages (from stevedore>=3.0.0->qiskit) (6.1.1)\n",
            "Requirement already satisfied: setuptools in /usr/local/lib/python3.11/dist-packages (from pbr>=2.0.0->stevedore>=3.0.0->qiskit) (75.2.0)\n",
            "Collecting qiskit-aer\n",
            "  Downloading qiskit_aer-0.17.1-cp311-cp311-manylinux_2_17_x86_64.manylinux2014_x86_64.whl.metadata (8.3 kB)\n",
            "Requirement already satisfied: qiskit>=1.1.0 in /usr/local/lib/python3.11/dist-packages (from qiskit-aer) (2.1.1)\n",
            "Requirement already satisfied: numpy>=1.16.3 in /usr/local/lib/python3.11/dist-packages (from qiskit-aer) (2.0.2)\n",
            "Requirement already satisfied: scipy>=1.0 in /usr/local/lib/python3.11/dist-packages (from qiskit-aer) (1.16.0)\n",
            "Requirement already satisfied: psutil>=5 in /usr/local/lib/python3.11/dist-packages (from qiskit-aer) (5.9.5)\n",
            "Requirement already satisfied: python-dateutil>=2.8.0 in /usr/local/lib/python3.11/dist-packages (from qiskit-aer) (2.9.0.post0)\n",
            "Requirement already satisfied: six>=1.5 in /usr/local/lib/python3.11/dist-packages (from python-dateutil>=2.8.0->qiskit-aer) (1.17.0)\n",
            "Requirement already satisfied: rustworkx>=0.15.0 in /usr/local/lib/python3.11/dist-packages (from qiskit>=1.1.0->qiskit-aer) (0.16.0)\n",
            "Requirement already satisfied: dill>=0.3 in /usr/local/lib/python3.11/dist-packages (from qiskit>=1.1.0->qiskit-aer) (0.3.8)\n",
            "Requirement already satisfied: stevedore>=3.0.0 in /usr/local/lib/python3.11/dist-packages (from qiskit>=1.1.0->qiskit-aer) (5.4.1)\n",
            "Requirement already satisfied: typing-extensions in /usr/local/lib/python3.11/dist-packages (from qiskit>=1.1.0->qiskit-aer) (4.14.1)\n",
            "Requirement already satisfied: pbr>=2.0.0 in /usr/local/lib/python3.11/dist-packages (from stevedore>=3.0.0->qiskit>=1.1.0->qiskit-aer) (6.1.1)\n",
            "Requirement already satisfied: setuptools in /usr/local/lib/python3.11/dist-packages (from pbr>=2.0.0->stevedore>=3.0.0->qiskit>=1.1.0->qiskit-aer) (75.2.0)\n",
            "Downloading qiskit_aer-0.17.1-cp311-cp311-manylinux_2_17_x86_64.manylinux2014_x86_64.whl (12.4 MB)\n",
            "\u001b[2K   \u001b[90m━━━━━━━━━━━━━━━━━━━━━━━━━━━━━━━━━━━━━━━━\u001b[0m \u001b[32m12.4/12.4 MB\u001b[0m \u001b[31m96.2 MB/s\u001b[0m eta \u001b[36m0:00:00\u001b[0m\n",
            "\u001b[?25hInstalling collected packages: qiskit-aer\n",
            "Successfully installed qiskit-aer-0.17.1\n"
          ]
        }
      ]
    },
    {
      "cell_type": "code",
      "source": [
        "from qiskit import QuantumCircuit, Aer, execute\n",
        "\n",
        "# 1. Create a 2-qubit circuit\n",
        "qc = QuantumCircuit(2)\n",
        "\n",
        "# 2. Apply superposition\n",
        "qc.h(0)    # Hadamard on qubit 0: puts it in superposition |0>+|1>\n",
        "qc.h(1)    # Same on qubit 1\n",
        "\n",
        "# 3. Entangle qubits\n",
        "qc.cx(0, 1)  # CNOT: control qubit 0, target qubit 1\n",
        "\n",
        "# 4. Measure both qubits\n",
        "qc.measure_all()\n",
        "\n",
        "# 5. Run on simulator\n",
        "backend = Aer.get_backend('aer_simulator')\n",
        "job = execute(qc, backend, shots=1024)\n",
        "result = job.result().get_counts()\n",
        "print(result)\n"
      ],
      "metadata": {
        "colab": {
          "base_uri": "https://localhost:8080/",
          "height": 383
        },
        "id": "aKH91hrpEc9i",
        "outputId": "07a03d1b-56d2-4c95-95fc-31d6abf0a805"
      },
      "execution_count": 1,
      "outputs": [
        {
          "output_type": "error",
          "ename": "ImportError",
          "evalue": "cannot import name 'Aer' from 'qiskit' (/usr/local/lib/python3.11/dist-packages/qiskit/__init__.py)",
          "traceback": [
            "\u001b[0;31m---------------------------------------------------------------------------\u001b[0m",
            "\u001b[0;31mImportError\u001b[0m                               Traceback (most recent call last)",
            "\u001b[0;32m/tmp/ipython-input-1-341602005.py\u001b[0m in \u001b[0;36m<cell line: 0>\u001b[0;34m()\u001b[0m\n\u001b[0;32m----> 1\u001b[0;31m \u001b[0;32mfrom\u001b[0m \u001b[0mqiskit\u001b[0m \u001b[0;32mimport\u001b[0m \u001b[0mQuantumCircuit\u001b[0m\u001b[0;34m,\u001b[0m \u001b[0mAer\u001b[0m\u001b[0;34m,\u001b[0m \u001b[0mexecute\u001b[0m\u001b[0;34m\u001b[0m\u001b[0;34m\u001b[0m\u001b[0m\n\u001b[0m\u001b[1;32m      2\u001b[0m \u001b[0;34m\u001b[0m\u001b[0m\n\u001b[1;32m      3\u001b[0m \u001b[0;31m# 1. Create a 2-qubit circuit\u001b[0m\u001b[0;34m\u001b[0m\u001b[0;34m\u001b[0m\u001b[0m\n\u001b[1;32m      4\u001b[0m \u001b[0mqc\u001b[0m \u001b[0;34m=\u001b[0m \u001b[0mQuantumCircuit\u001b[0m\u001b[0;34m(\u001b[0m\u001b[0;36m2\u001b[0m\u001b[0;34m)\u001b[0m\u001b[0;34m\u001b[0m\u001b[0;34m\u001b[0m\u001b[0m\n\u001b[1;32m      5\u001b[0m \u001b[0;34m\u001b[0m\u001b[0m\n",
            "\u001b[0;31mImportError\u001b[0m: cannot import name 'Aer' from 'qiskit' (/usr/local/lib/python3.11/dist-packages/qiskit/__init__.py)",
            "",
            "\u001b[0;31m---------------------------------------------------------------------------\u001b[0;32m\nNOTE: If your import is failing due to a missing package, you can\nmanually install dependencies using either !pip or !apt.\n\nTo view examples of installing some common dependencies, click the\n\"Open Examples\" button below.\n\u001b[0;31m---------------------------------------------------------------------------\u001b[0m\n"
          ],
          "errorDetails": {
            "actions": [
              {
                "action": "open_url",
                "actionText": "Open Examples",
                "url": "/notebooks/snippets/importing_libraries.ipynb"
              }
            ]
          }
        }
      ]
    }
  ]
}